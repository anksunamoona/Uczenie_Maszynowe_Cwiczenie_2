{
  "nbformat": 4,
  "nbformat_minor": 0,
  "metadata": {
    "colab": {
      "provenance": []
    },
    "kernelspec": {
      "name": "python3",
      "display_name": "Python 3"
    },
    "language_info": {
      "name": "python"
    }
  },
  "cells": [
    {
      "cell_type": "code",
      "execution_count": 1,
      "metadata": {
        "id": "QenSFAOCYpXh",
        "colab": {
          "base_uri": "https://localhost:8080/"
        },
        "outputId": "c41403f1-d199-464b-8563-e3eb69507f78"
      },
      "outputs": [
        {
          "output_type": "stream",
          "name": "stdout",
          "text": [
            "Looking in indexes: https://pypi.org/simple, https://us-python.pkg.dev/colab-wheels/public/simple/\n",
            "\u001b[31mERROR: Could not find a version that satisfies the requirement tensorflow==2.7 (from versions: 2.8.0rc0, 2.8.0rc1, 2.8.0, 2.8.1, 2.8.2, 2.8.3, 2.8.4, 2.9.0rc0, 2.9.0rc1, 2.9.0rc2, 2.9.0, 2.9.1, 2.9.2, 2.9.3, 2.10.0rc0, 2.10.0rc1, 2.10.0rc2, 2.10.0rc3, 2.10.0, 2.10.1, 2.11.0rc0, 2.11.0rc1, 2.11.0rc2, 2.11.0, 2.11.1, 2.12.0rc0, 2.12.0rc1, 2.12.0, 2.13.0rc0, 2.13.0rc1)\u001b[0m\u001b[31m\n",
            "\u001b[0m\u001b[31mERROR: No matching distribution found for tensorflow==2.7\u001b[0m\u001b[31m\n",
            "\u001b[0m"
          ]
        }
      ],
      "source": [
        "!pip install tensorflow==2.7 keras gdown"
      ]
    },
    {
      "cell_type": "code",
      "source": [
        "!gdown 1T5Cm4Tt1sO21ARz6BvStSW4yks118rRz"
      ],
      "metadata": {
        "id": "tp0p6KtbYp2j",
        "colab": {
          "base_uri": "https://localhost:8080/"
        },
        "outputId": "6d893ade-6c2b-48f2-fb5f-a888db4ed623"
      },
      "execution_count": 2,
      "outputs": [
        {
          "output_type": "stream",
          "name": "stdout",
          "text": [
            "Downloading...\n",
            "From: https://drive.google.com/uc?id=1T5Cm4Tt1sO21ARz6BvStSW4yks118rRz\n",
            "To: /content/small_data_set.zip\n",
            "100% 2.07G/2.07G [00:21<00:00, 97.0MB/s]\n"
          ]
        }
      ]
    },
    {
      "cell_type": "code",
      "source": [
        "import zipfile\n",
        "import os\n",
        "import shutil\n",
        "from google.colab import drive\n",
        "import tensorflow as tf\n",
        "from tensorflow.keras.preprocessing.image import ImageDataGenerator\n",
        "from tensorflow.keras import layers, models\n",
        "from tensorflow.keras.applications import VGG16\n",
        "\n",
        "class ImageClassifier:\n",
        "    def __init__(self, zip_file_path, dataset_folder=\"dataset\", image_size=(150, 150), batch_size=32):\n",
        "        self.zip_file_path = zip_file_path\n",
        "        self.dataset_folder = dataset_folder\n",
        "        self.image_size = image_size\n",
        "        self.batch_size = batch_size\n",
        "\n",
        "    def extract_zip(self):\n",
        "        with zipfile.ZipFile(self.zip_file_path, 'r') as zip_ref:\n",
        "            zip_ref.extractall(self.dataset_folder)\n",
        "        print(\"Dataset extracted successfully.\")\n",
        "\n",
        "    def prepare_data(self):\n",
        "        data_gen = ImageDataGenerator(rescale=1./255, validation_split=0.2)\n",
        "\n",
        "        self.train_data = data_gen.flow_from_directory(\n",
        "            self.dataset_folder,\n",
        "            target_size=self.image_size,\n",
        "            batch_size=self.batch_size,\n",
        "            class_mode=\"categorical\",\n",
        "            subset=\"training\"\n",
        "        )\n",
        "\n",
        "        self.validation_data = data_gen.flow_from_directory(\n",
        "            self.dataset_folder,\n",
        "            target_size=self.image_size,\n",
        "            batch_size=self.batch_size,\n",
        "            class_mode=\"categorical\",\n",
        "            subset=\"validation\"\n",
        "        )\n",
        "        self.num_classes = len(self.train_data.class_indices)\n",
        "        print(f\"Data prepared for training and validation. Number of classes: {self.num_classes}\")\n",
        "\n",
        "    def create_model(self):\n",
        "        base_model = VGG16(weights=\"imagenet\", include_top=False, input_shape=(*self.image_size, 3))\n",
        "        base_model.trainable = False\n",
        "        \n",
        "        self.model = models.Sequential([\n",
        "            base_model,\n",
        "            layers.Flatten(),\n",
        "            layers.Dense(512, activation=\"relu\"),\n",
        "            layers.Dense(self.num_classes, activation=\"softmax\")\n",
        "        ])\n",
        "\n",
        "        self.model.compile(optimizer=\"adam\", loss=\"categorical_crossentropy\", metrics=[\"accuracy\"])\n",
        "        print(\"Deep neural network model created and compiled.\")\n",
        "\n",
        "\n",
        "    def train(self, epochs=10):\n",
        "        self.model.fit(\n",
        "            self.train_data,\n",
        "            epochs=epochs,\n",
        "            validation_data=self.validation_data\n",
        "        )\n",
        "        print(\"Model trained successfully.\")\n",
        "\n",
        "\n",
        "zip_file_path = \"/content/small_data_set.zip\"\n",
        "\n",
        "classifier = ImageClassifier(zip_file_path)\n",
        "classifier.extract_zip()\n",
        "classifier.prepare_data()\n",
        "classifier.create_model()\n",
        "classifier.train()"
      ],
      "metadata": {
        "id": "6ppqEGzgYp8q",
        "colab": {
          "base_uri": "https://localhost:8080/"
        },
        "outputId": "04e38a61-2420-459a-eba7-72e95d2d8244"
      },
      "execution_count": 6,
      "outputs": [
        {
          "output_type": "stream",
          "name": "stdout",
          "text": [
            "Dataset extracted successfully.\n",
            "Found 200 images belonging to 5 classes.\n",
            "Found 50 images belonging to 5 classes.\n",
            "Data prepared for training and validation. Number of classes: 5\n",
            "Downloading data from https://storage.googleapis.com/tensorflow/keras-applications/vgg16/vgg16_weights_tf_dim_ordering_tf_kernels_notop.h5\n",
            "58889256/58889256 [==============================] - 1s 0us/step\n",
            "Deep neural network model created and compiled.\n",
            "Epoch 1/10\n",
            "7/7 [==============================] - 126s 18s/step - loss: 3.4570 - accuracy: 0.2400 - val_loss: 1.8627 - val_accuracy: 0.4000\n",
            "Epoch 2/10\n",
            "7/7 [==============================] - 134s 20s/step - loss: 1.2583 - accuracy: 0.6000 - val_loss: 1.1164 - val_accuracy: 0.6000\n",
            "Epoch 3/10\n",
            "7/7 [==============================] - 115s 16s/step - loss: 0.6281 - accuracy: 0.7800 - val_loss: 1.0148 - val_accuracy: 0.5600\n",
            "Epoch 4/10\n",
            "7/7 [==============================] - 132s 19s/step - loss: 0.4010 - accuracy: 0.8700 - val_loss: 1.0558 - val_accuracy: 0.6000\n",
            "Epoch 5/10\n",
            "7/7 [==============================] - 133s 20s/step - loss: 0.2209 - accuracy: 0.9400 - val_loss: 0.9880 - val_accuracy: 0.5400\n",
            "Epoch 6/10\n",
            "7/7 [==============================] - 113s 16s/step - loss: 0.1571 - accuracy: 0.9850 - val_loss: 0.9649 - val_accuracy: 0.6400\n",
            "Epoch 7/10\n",
            "7/7 [==============================] - 144s 20s/step - loss: 0.1139 - accuracy: 0.9850 - val_loss: 0.9293 - val_accuracy: 0.6400\n",
            "Epoch 8/10\n",
            "7/7 [==============================] - 133s 19s/step - loss: 0.0805 - accuracy: 0.9900 - val_loss: 0.9635 - val_accuracy: 0.5800\n",
            "Epoch 9/10\n",
            "7/7 [==============================] - 132s 19s/step - loss: 0.0586 - accuracy: 1.0000 - val_loss: 0.9398 - val_accuracy: 0.6000\n",
            "Epoch 10/10\n",
            "7/7 [==============================] - 114s 16s/step - loss: 0.0448 - accuracy: 1.0000 - val_loss: 0.9220 - val_accuracy: 0.6400\n",
            "Model trained successfully.\n"
          ]
        }
      ]
    }
  ]
}